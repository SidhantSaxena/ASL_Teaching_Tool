{
 "cells": [
  {
   "cell_type": "code",
   "execution_count": 1,
   "metadata": {},
   "outputs": [],
   "source": [
    "import os\n",
    "import shutil\n",
    "import numpy.random as rd"
   ]
  },
  {
   "cell_type": "code",
   "execution_count": 3,
   "metadata": {},
   "outputs": [],
   "source": [
    "# fold=\"C:/Users/User/OneDrive/Desktop/Miniprj/All_Demo_Images\"\n",
    "if not os.path.exists(fold):\n",
    "    os.mkdir(fold)\n",
    "\n",
    "# train_fold = \"C:/Users/User/OneDrive/Desktop/Miniprj/All_Demo_Images/Train\"\n",
    "# test_fold = \"C:/Users/User/OneDrive/Desktop/Miniprj/All_Demo_Images/Test\"\n",
    "if not os.path.exists(train_fold):\n",
    "    os.mkdir(train_fold)\n",
    "if not os.path.exists(test_fold):\n",
    "    os.mkdir(test_fold)\n",
    "\n",
    "test_size=30\n",
    "train_size=70\n",
    "\n",
    "for i in range(65,91):\n",
    "    \n",
    "    des1=f\"{train_fold}/{chr(i)}\"\n",
    "    des2=f\"{test_fold}/{chr(i)}\"\n",
    "    \n",
    "    if not os.path.exists(des1):\n",
    "        os.mkdir(des1)\n",
    "    if not os.path.exists(des2):\n",
    "        os.mkdir(des2)\n",
    "        \n",
    "    d = dict()\n",
    "    for j in range(100):\n",
    "        d[j]=0\n",
    "    \n",
    "    tsize = 0\n",
    "    while tsize<test_size:\n",
    "        x = rd.randint(0,99)\n",
    "        if(d[x]==1):\n",
    "            continue\n",
    "        else:\n",
    "            d[x]=1\n",
    "            tsize+=1\n",
    "            \n",
    "    trn,tsn=0,0\n",
    "    for j in d:\n",
    "        src = f\"C:/Users/User/OneDrive/Desktop/Miniprj/Demo_Images/{chr(i)}/image_{j}.jpg\"\n",
    "        dest2 = f\"{des2}/{chr(i)}_{tsn}.jpg\"\n",
    "        dest1 = f\"{des1}/{chr(i)}_{trn}.jpg\"\n",
    "        if d[j]==1:\n",
    "            shutil.copy2(src,dest2)\n",
    "            tsn+=1\n",
    "        else:\n",
    "            shutil.copy2(src,dest1)\n",
    "            trn+=1"
   ]
  },
  {
   "cell_type": "code",
   "execution_count": 1,
   "metadata": {},
   "outputs": [],
   "source": [
    "import numpy as np\n",
    "import matplotlib.pyplot as pt\n",
    "import pandas as pd\n",
    "import seaborn as sb\n",
    "from PIL import Image"
   ]
  },
  {
   "cell_type": "code",
   "execution_count": 21,
   "metadata": {},
   "outputs": [],
   "source": [
    "path=\"C://Users//User//OneDrive//Desktop//Miniprj//Data_images//B//image_69.jpg\"\n",
    "img = Image.open(path)"
   ]
  },
  {
   "cell_type": "code",
   "execution_count": 22,
   "metadata": {},
   "outputs": [],
   "source": [
    "npr = np.array(img)"
   ]
  },
  {
   "cell_type": "code",
   "execution_count": 23,
   "metadata": {},
   "outputs": [
    {
     "data": {
      "text/plain": [
       "(300, 300, 3)"
      ]
     },
     "execution_count": 23,
     "metadata": {},
     "output_type": "execute_result"
    }
   ],
   "source": [
    "npr.shape"
   ]
  },
  {
   "cell_type": "code",
   "execution_count": 26,
   "metadata": {},
   "outputs": [],
   "source": [
    "temp = np.array([255,255,255])\n",
    "temp2 = np.array([0,0,0])\n",
    "for i in range(300):\n",
    "    for j in range(300):\n",
    "        if npr[i][j][0]>=220 and npr[i][j][0]<=255:\n",
    "            pass\n",
    "        elif npr[i][j][0]>=180 and npr[i][j][1]>=180 and npr[i][j][2]>=180:\n",
    "            pass\n",
    "        else:\n",
    "            npr[i][j]=temp"
   ]
  },
  {
   "cell_type": "code",
   "execution_count": 27,
   "metadata": {},
   "outputs": [
    {
     "data": {
      "image/png": "[encoded data removed]",
      "text/plain": [
       "<Figure size 432x288 with 1 Axes>"
      ]
     },
     "metadata": {
      "needs_background": "light"
     },
     "output_type": "display_data"
    }
   ],
   "source": [
    "data = Image.fromarray(npr)\n",
    "data.save(\"tut.jpg\")\n",
    "imgplot = pt.imshow(data)"
   ]
  },
  {
   "cell_type": "code",
   "execution_count": 86,
   "metadata": {},
   "outputs": [],
   "source": [
    "# new_fold=\"C:/Users/User/OneDrive/Desktop/Miniprj/Demo_Images\"\n",
    "if not os.path.exists(new_fold):\n",
    "    os.mkdir(new_fold)\n",
    "for i in range(65,91):\n",
    "    des = f\"{new_fold}/{chr(i)}\"\n",
    "    if not os.path.exists(des):\n",
    "        os.mkdir(des)\n",
    "    for j in range(100):\n",
    "#         src=f\"C:/Users/User/OneDrive/Desktop/Miniprj/Data_Images/{chr(i)}/image_{j}.jpg\"\n",
    "        img = Image.open(src)\n",
    "        npr = np.array(img)\n",
    "        for k in range(300):\n",
    "            for x in range(300):\n",
    "                if npr[k][x][0]<220 and npr[k][x][1]<220 and npr[k][x][2]<220:\n",
    "                    npr[k][x]=temp\n",
    "        img_data = Image.fromarray(npr)\n",
    "        img_data.save(f\"{des}/image_{j}.jpg\")"
   ]
  },
  {
   "cell_type": "code",
   "execution_count": null,
   "metadata": {},
   "outputs": [],
   "source": []
  }
 ],
 "metadata": {
  "kernelspec": {
   "display_name": "Python 3 (ipykernel)",
   "language": "python",
   "name": "python3"
  },
  "language_info": {
   "codemirror_mode": {
    "name": "ipython",
    "version": 3
   },
   "file_extension": ".py",
   "mimetype": "text/x-python",
   "name": "python",
   "nbconvert_exporter": "python",
   "pygments_lexer": "ipython3",
   "version": "3.9.13"
  },
  "vscode": {
   "interpreter": {
    "hash": "11938c6bc6919ae2720b4d5011047913343b08a43b18698fd82dedb0d4417594"
   }
  }
 },
 "nbformat": 4,
 "nbformat_minor": 2
}
